{
 "cells": [
  {
   "cell_type": "code",
   "execution_count": 9,
   "metadata": {},
   "outputs": [],
   "source": [
    "from sentence_transformers import SentenceTransformer\n",
    "import numpy as np\n",
    "import json\n",
    "import pickle"
   ]
  },
  {
   "cell_type": "code",
   "execution_count": 18,
   "metadata": {},
   "outputs": [
    {
     "name": "stdout",
     "output_type": "stream",
     "text": [
      "Movie ID: 318, Embedding: ('The Shawshank Redemption', [0, 0, 0, 0, 0, 1, 0, 1, 0, 0, 0, 0, 0, 0, 0, 0, 0, 0])\n",
      "Movie ID: 356, Embedding: ('Forrest Gump', [0, 0, 0, 0, 1, 0, 0, 1, 0, 0, 0, 0, 0, 1, 0, 0, 1, 0])\n",
      "Movie ID: 296, Embedding: ('Pulp Fiction', [0, 0, 0, 0, 1, 1, 0, 1, 0, 0, 0, 0, 0, 0, 0, 1, 0, 0])\n",
      "Movie ID: 2571, Embedding: ('The Matrix', [1, 0, 0, 0, 0, 0, 0, 0, 0, 0, 0, 0, 0, 0, 1, 1, 0, 0])\n",
      "Movie ID: 593, Embedding: ('The Silence of the Lambs', [0, 0, 0, 0, 0, 1, 0, 0, 0, 0, 1, 0, 0, 0, 0, 1, 0, 0])\n"
     ]
    }
   ],
   "source": [
    "\n",
    "# Load the pre-trained model\n",
    "model = SentenceTransformer('sentence-transformers/all-MiniLM-L6-v2')\n",
    "\n",
    "genres_list = ['Action', 'Adventure', 'Animation', 'Children', 'Comedy', 'Crime', 'Documentary', 'Drama', 'Fantasy', 'Film-Noir', 'Horror', 'Musical', 'Mystery', 'Romance', 'Sci-Fi', 'Thriller', 'War', 'Western']\n",
    "\n",
    "def encode_genres(genres):\n",
    "    encoding = [1 if genre in genres else 0 for genre in genres_list]\n",
    "    return encoding\n",
    "\n",
    "with open('movies.json', 'r') as file:\n",
    "    data = json.load(file)\n",
    "\n",
    "embeddings = {}\n",
    "for movie_id, movie_info in data.items():\n",
    "    genres = movie_info['genres']\n",
    "    title = movie_info['title']  # List of genres for the movie\n",
    "    embedding = encode_genres(genres)  # Multi-hot encoding\n",
    "\n",
    "    value = (title, embedding)\n",
    "    embeddings[movie_id] = value\n",
    "\n",
    "\n",
    "n = 5\n",
    "for i, (movie_id, embedding) in enumerate(embeddings.items()):\n",
    "    if i >= n:\n",
    "        break\n",
    "    print(f\"Movie ID: {movie_id}, Embedding: {embedding}\")\n",
    "\n",
    "with open('embeddings.pkl','wb') as em:\n",
    "    pickle.dump(embeddings, em)\n"
   ]
  },
  {
   "cell_type": "code",
   "execution_count": 19,
   "metadata": {},
   "outputs": [
    {
     "name": "stderr",
     "output_type": "stream",
     "text": [
      "C:\\Users\\ASUS\\AppData\\Local\\Temp\\ipykernel_1428\\923232064.py:20: RuntimeWarning: invalid value encountered in scalar divide\n",
      "  return np.dot(vec1, vec2) / (np.linalg.norm(vec1) * np.linalg.norm(vec2))\n"
     ]
    },
    {
     "name": "stdout",
     "output_type": "stream",
     "text": [
      "Movie ID: 2280, Movie title: Clay Pigeons, Similarity: 1.0\n",
      "Movie ID: 4945, Movie title: The Enforcer, Similarity: 1.0\n",
      "Movie ID: 183619, Movie title: Den of Thieves, Similarity: 1.0\n",
      "Movie ID: 3427, Movie title: Coogan's Bluff, Similarity: 1.0\n",
      "Movie ID: 681, Movie title: Coup de torchon (Clean Slate), Similarity: 1.0\n"
     ]
    }
   ],
   "source": [
    "import json\n",
    "import pickle\n",
    "import numpy as np\n",
    "from sentence_transformers import SentenceTransformer\n",
    "\n",
    "# Load the pre-trained model\n",
    "model = SentenceTransformer('sentence-transformers/all-MiniLM-L6-v2')\n",
    "\n",
    "# Load the embeddings from the pkl file\n",
    "with open('embeddings.pkl', 'rb') as file:\n",
    "    embeddings = pickle.load(file)\n",
    "\n",
    "genres_list = ['Action', 'Adventure', 'Animation', 'Children', 'Comedy', 'Crime', 'Documentary', 'Drama', 'Fantasy', 'Film-Noir', 'Horror', 'Musical', 'Mystery', 'Romance', 'Sci-Fi', 'Thriller', 'War', 'Western']\n",
    "\n",
    "def encode_genres(genres):\n",
    "    encoding = [1 if genre in genres else 0 for genre in genres_list]\n",
    "    return encoding\n",
    "\n",
    "def cosine_similarity(vec1, vec2):\n",
    "    return np.dot(vec1, vec2) / (np.linalg.norm(vec1) * np.linalg.norm(vec2))\n",
    "\n",
    "def recommend_movies(input_genres):\n",
    "    input_embedding = encode_genres(input_genres)\n",
    "    similarities = []\n",
    "    \n",
    "    for movie_id, (title, embedding) in embeddings.items():\n",
    "        similarity = cosine_similarity(input_embedding, embedding)\n",
    "        similarities.append((movie_id, title, similarity))\n",
    "    \n",
    "    # Sort movies by similarity\n",
    "    sorted_movies = sorted(similarities, key=lambda item: item[2], reverse=True)\n",
    "    \n",
    "    # Return top N recommendations\n",
    "    return sorted_movies\n",
    "\n",
    "# Example usage\n",
    "input_genres = ['Crime']\n",
    "recommendations = recommend_movies(input_genres)\n",
    "for movie_id, title, similarity in recommendations:\n",
    "    print(f\"Movie ID: {movie_id}, Movie title: {title}, Similarity: {similarity}\")"
   ]
  },
  {
   "cell_type": "code",
   "execution_count": 3,
   "metadata": {},
   "outputs": [
    {
     "name": "stdout",
     "output_type": "stream",
     "text": [
      "Most similar movies to: Toy Story\n",
      "Toy Story 2 (score: 0.9678102135658264)\n",
      "Toy Story 3 (score: 0.9354385137557983)\n",
      "Toy Story 4 (score: 0.9072819948196411)\n"
     ]
    }
   ],
   "source": [
    "import json\n",
    "\n",
    "# Load movies.json\n",
    "json_file = r'C:\\Users\\ASUS\\Desktop\\Btech\\MERN_2\\ai\\movies.json'\n",
    "image_file = r\"C:\\Users\\ASUS\\Desktop\\Btech\\MERN_2\\image_links.txt\"\n",
    "with open(json_file, 'r') as movies_file:\n",
    "    movies = json.load(movies_file)\n",
    "\n",
    "# Load image_links.txt\n",
    "image_links = {}\n",
    "with open(image_file, 'r') as links_file:\n",
    "    for line in links_file:\n",
    "        movie_id, url = line.strip().split(',')\n",
    "        image_links[movie_id] = url\n",
    "\n",
    "# Update movies with image URLs\n",
    "for movie_id, movie in movies.items():\n",
    "    movie['url'] = image_links.get(movie_id, '')\n",
    "\n",
    "i = 0\n",
    "for movie_id, movie in movies.items():\n",
    "    print(f\"Movie ID: {movie['title']}, URL: {movie['url']}\")\n",
    "    if i < 5:\n",
    "        i += 1\n",
    "    else: break\n",
    "\n",
    "\n",
    "# Save the updated movies.json\n",
    "with open(json_file, 'w') as updated_movies_file:\n",
    "    json.dump(movies, updated_movies_file, indent=4)\n",
    "\n",
    "print(\"Movies updated with image URLs.\")"
   ]
  },
  {
   "cell_type": "code",
   "execution_count": null,
   "metadata": {},
   "outputs": [],
   "source": [
    "import json\n",
    "\n",
    "# Load movies.json\n",
    "json_file = r'C:\\Users\\ASUS\\Desktop\\Btech\\MERN_2\\ai\\movies.json'\n",
    "image_file = r\"C:\\Users\\ASUS\\Desktop\\Btech\\MERN_2\\image_links.txt\"\n",
    "with open(json_file, 'r') as movies_file:\n",
    "    movies = json.load(movies_file)\n",
    "\n",
    "# Load image_links.txt\n",
    "image_links = {}\n",
    "with open(image_file, 'r') as links_file:\n",
    "    for line in links_file:\n",
    "        movie_id, url = line.strip().split(',')\n",
    "        image_links[movie_id] = url\n",
    "\n",
    "# Update movies with image URLs\n",
    "for movie_id, movie in movies.items():\n",
    "    movie['url'] = image_links.get(movie_id, '')\n",
    "\n",
    "i = 0\n",
    "for movie_id, movie in movies.items():\n",
    "    print(f\"Movie ID: {movie['title']}, URL: {movie['url']}\")\n",
    "    if i < 5:\n",
    "        i += 1\n",
    "    else: break\n",
    "\n",
    "\n",
    "# Save the updated movies.json\n",
    "with open(json_file, 'w') as updated_movies_file:\n",
    "    json.dump(movies, updated_movies_file, indent=4)\n",
    "\n",
    "print(\"Movies updated with image URLs.\")"
   ]
  }
 ],
 "metadata": {
  "kernelspec": {
   "display_name": ".venv",
   "language": "python",
   "name": "python3"
  },
  "language_info": {
   "codemirror_mode": {
    "name": "ipython",
    "version": 3
   },
   "file_extension": ".py",
   "mimetype": "text/x-python",
   "name": "python",
   "nbconvert_exporter": "python",
   "pygments_lexer": "ipython3",
   "version": "3.11.9"
  }
 },
 "nbformat": 4,
 "nbformat_minor": 2
}
